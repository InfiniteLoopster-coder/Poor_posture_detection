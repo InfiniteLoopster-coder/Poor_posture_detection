{
 "cells": [
  {
   "cell_type": "code",
   "execution_count": null,
   "metadata": {
    "vscode": {
     "languageId": "plaintext"
    }
   },
   "outputs": [],
   "source": [
    "{\n",
    " \"cells\": [\n",
    "  {\n",
    "   \"cell_type\": \"markdown\",\n",
    "   \"id\": \"0d0a0c8f\",\n",
    "   \"metadata\": {},\n",
    "   \"source\": [\n",
    "    \"# Posture Analysis Notebook\\n\",\n",
    "    \"\\n\",\n",
    "    \"This notebook demonstrates how to analyze posture angles using sample data.\"\n",
    "   ]\n",
    "  },\n",
    "  {\n",
    "   \"cell_type\": \"code\",\n",
    "   \"execution_count\": null,\n",
    "   \"id\": \"a4e9dfd7\",\n",
    "   \"metadata\": {},\n",
    "   \"outputs\": [],\n",
    "   \"source\": [\n",
    "    \"import numpy as np\\n\",\n",
    "    \"from src.utils import calculate_angle\\n\",\n",
    "    \"\\n\",\n",
    "    \"# Sample points: [x, y]\\n\",\n",
    "    \"a = [0.1, 0.2]\\n\",\n",
    "    \"b = [0.2, 0.3]  # mid point\\n\",\n",
    "    \"c = [0.3, 0.5]\\n\",\n",
    "    \"\\n\",\n",
    "    \"angle = calculate_angle(a, b, c)\\n\",\n",
    "    \"print(f'Calculated angle: {angle:.2f} degrees')\"\n",
    "   ]\n",
    "  }\n",
    " ],\n",
    " \"metadata\": {\n",
    "  \"kernelspec\": {\n",
    "   \"display_name\": \"Python 3\",\n",
    "   \"language\": \"python\",\n",
    "   \"name\": \"python3\"\n",
    "  },\n",
    "  \"language_info\": {\n",
    "   \"name\": \"python\"\n",
    "  }\n",
    " },\n",
    " \"nbformat\": 4,\n",
    " \"nbformat_minor\": 5\n",
    "}\n"
   ]
  }
 ],
 "metadata": {
  "language_info": {
   "name": "python"
  }
 },
 "nbformat": 4,
 "nbformat_minor": 2
}
